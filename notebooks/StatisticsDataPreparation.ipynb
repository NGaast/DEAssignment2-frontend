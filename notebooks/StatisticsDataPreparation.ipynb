{
 "cells": [
  {
   "cell_type": "code",
   "execution_count": 33,
   "id": "e3641c84-ac61-44ce-9c73-e1c546f24890",
   "metadata": {},
   "outputs": [],
   "source": [
    "# Imports\n",
    "from pyspark import SparkConf\n",
    "from pyspark.sql import SparkSession\n",
    "from pyspark.sql.functions import explode, split, concat, col, lit, array, udf, dense_rank, concat_ws, first\n",
    "from pyspark.sql.types import StructType, StructField, LongType, StringType, DoubleType, DateType, TimestampType\n",
    "from pyspark.sql import Window as W"
   ]
  },
  {
   "cell_type": "code",
   "execution_count": 34,
   "id": "b4bb1e5d-6b1d-4db2-9036-6055274039e5",
   "metadata": {},
   "outputs": [],
   "source": [
    "# Initialize and configure Spark\n",
    "sparkConf = SparkConf()\n",
    "sparkConf.setMaster(\"spark://spark-master:7077\")\n",
    "sparkConf.setAppName(\"FixturePipeline\")\n",
    "sparkConf.set(\"spark.driver.memory\", \"2g\")\n",
    "sparkConf.set(\"spark.executor.cores\", \"1\")\n",
    "sparkConf.set(\"spark.driver.cores\", \"1\")\n",
    "spark = SparkSession.builder \\\n",
    "        .config(conf=sparkConf).getOrCreate()"
   ]
  },
  {
   "cell_type": "code",
   "execution_count": 35,
   "id": "2f198d47-67d3-4c14-962d-31eee221c254",
   "metadata": {},
   "outputs": [],
   "source": [
    "# Setup abstract Google storage FileSystem\n",
    "bucket_id = \"data_de2022_ng\"\n",
    "conf = spark.sparkContext._jsc.hadoopConfiguration()\n",
    "conf.set('temporaryGcsBucket', bucket_id)\n",
    "conf.set(\"fs.gs.impl\", \"com.google.cloud.hadoop.fs.gcs.GoogleHadoopFileSystem\")\n",
    "conf.set(\"fs.AbstractFileSystem.gs.impl\", \"com.google.cloud.hadoop.fs.gcs.GoogleHadoopFS\")"
   ]
  },
  {
   "cell_type": "code",
   "execution_count": 36,
   "id": "c6202cf9-a541-4689-ba08-f99224794694",
   "metadata": {},
   "outputs": [],
   "source": [
    "# # Load data into DataFrame\n",
    "# google_cloud_storage_path = 'gs://data_de2022_ng/'\n",
    "\n",
    "# df = spark.read.format(\"json\") \\\n",
    "#                          .option(\"inferSchema\", \"true\") \\\n",
    "#                          .option(\"multiLine\", \"true\") \\\n",
    "#                          .load(f'{google_cloud_storage_path}statistics.json')"
   ]
  },
  {
   "cell_type": "code",
   "execution_count": 43,
   "id": "43ab880f-6083-48ab-9a1d-4204e34a506b",
   "metadata": {},
   "outputs": [
    {
     "name": "stdout",
     "output_type": "stream",
     "text": [
      "root\n",
      " |-- fixture_id: string (nullable = true)\n",
      " |-- statistics: array (nullable = true)\n",
      " |    |-- element: struct (containsNull = true)\n",
      " |    |    |-- type: string (nullable = true)\n",
      " |    |    |-- value: string (nullable = true)\n",
      " |-- team: struct (nullable = true)\n",
      " |    |-- id: long (nullable = true)\n",
      " |    |-- logo: string (nullable = true)\n",
      " |    |-- name: string (nullable = true)\n",
      "\n"
     ]
    }
   ],
   "source": [
    "df = spark.read.format(\"json\") \\\n",
    "                         .option(\"inferSchema\", \"true\") \\\n",
    "                         .load('/home/jovyan/data/statistics.json')\n",
    "\n",
    "df.printSchema()"
   ]
  },
  {
   "cell_type": "code",
   "execution_count": 44,
   "id": "38c05a2e-54cb-4b79-a1a2-d99203221245",
   "metadata": {},
   "outputs": [
    {
     "name": "stdout",
     "output_type": "stream",
     "text": [
      "+---------------+---------------+-------------+------------+-----+----------------+--------+--------+---------------+---------+---------------+--------------+-------------+----------------+-----------+------------+------------+----------+-------+\n",
      "|fixture_team_id|Ball Possession|Blocked Shots|Corner Kicks|Fouls|Goalkeeper Saves|Offsides|Passes %|Passes accurate|Red Cards|Shots insidebox|Shots off Goal|Shots on Goal|Shots outsidebox|Total Shots|Total passes|Yellow Cards|fixture_id|team_id|\n",
      "+---------------+---------------+-------------+------------+-----+----------------+--------+--------+---------------+---------+---------------+--------------+-------------+----------------+-----------+------------+------------+----------+-------+\n",
      "|     8557341118|            53%|            3|           7|   13|               4|       1|     81%|            355|     null|              6|             4|            3|               4|         10|         436|           1|         8|   null|\n",
      "|       85573413|            47%|            4|           6|   13|               1|       2|     80%|            307|     null|              8|             7|            4|               7|         15|         385|           2|         8|   null|\n",
      "|       85573510|            78%|            4|           8|    9|               1|       2|     90%|            716|     null|             10|             2|            7|               3|         13|         797|        null|         8|   null|\n",
      "|       85573522|            22%|            1|        null|   14|               1|       2|     66%|            142|     null|              6|             4|            3|               2|          8|         215|           2|         8|   null|\n",
      "|     8557361569|            47%|         null|           1|   15|               1|       3|     81%|            351|     null|              2|             5|         null|               3|          5|         434|           4|         8|   null|\n",
      "|     8557362382|            53%|         null|           3|   15|            null|       4|     85%|            412|     null|              3|             3|            3|               3|          6|         486|           2|         8|   null|\n",
      "|       85573723|            31%|            1|           2|   21|               5|       1|     68%|            181|     null|              3|          null|            2|            null|          3|         266|           6|         8|   null|\n",
      "|       85573726|            69%|            3|           9|    7|            null|      10|     85%|            508|     null|             11|             6|            6|               4|         15|         596|        null|         8|   null|\n",
      "|       85573821|            61%|            3|          11|    9|               1|       1|     84%|            501|     null|              7|             3|            5|               4|         11|         595|           2|         8|   null|\n",
      "|       85573828|            39%|            7|           9|   10|               5|       1|     75%|            280|     null|              8|             5|            1|               5|         13|         374|           1|         8|   null|\n",
      "|       85573916|            61%|            3|           6|   14|               2|       3|     83%|            407|     null|              7|             4|            4|               4|         11|         488|           2|         8|   null|\n",
      "|       85573924|            39%|            1|           5|   15|               4|    null|     71%|            228|     null|              5|             3|            2|               1|          6|         322|           1|         8|   null|\n",
      "|        8557403|            65%|            1|           5|   11|               2|       1|     86%|            551|     null|              3|             2|            2|               2|          5|         642|        null|         8|   null|\n",
      "|       85574031|            35%|            6|        null|   16|               1|    null|     78%|            273|     null|              3|          null|            2|               5|          8|         348|           1|         8|   null|\n",
      "|       85574112|            26%|            4|           6|   14|               8|       4|     71%|            190|     null|             12|             4|            4|            null|         12|         269|        null|         8|   null|\n",
      "|       85574125|            74%|            6|           6|    6|               2|       4|     89%|            686|     null|             16|            11|            9|              10|         26|         771|        null|         8|   null|\n",
      "|        8557421|            54%|            3|           4|   11|               3|    null|     83%|            432|     null|              6|             3|            3|               3|          9|         520|           3|         8|   null|\n",
      "|     8557425529|            46%|            8|           4|   14|               2|       1|     82%|            353|     null|             18|            11|            3|               4|         22|         429|           2|         8|   null|\n",
      "|       85574315|            51%|            1|          11|   12|               5|       2|     84%|            432|     null|              5|             3|            3|               2|          7|         514|           2|         8|   null|\n",
      "|     8557431530|            49%|            1|           5|   10|               2|       2|     85%|            420|     null|              7|             2|            5|               1|          8|         494|           1|         8|   null|\n",
      "+---------------+---------------+-------------+------------+-----+----------------+--------+--------+---------------+---------+---------------+--------------+-------------+----------------+-----------+------------+------------+----------+-------+\n",
      "only showing top 20 rows\n",
      "\n"
     ]
    }
   ],
   "source": [
    "statistics_table = df.select('fixture_id',\n",
    "                                   col('team.id').alias('team_id'),\n",
    "                                   explode('statistics').alias('statistics')) \\\n",
    "                                   .withColumn('fixture_team_id', concat_ws('','fixture_id','team_id')) \\\n",
    "                                   .withColumn('type', col('statistics').getItem('type')) \\\n",
    "                                   .withColumn('value', col('statistics').getItem('value')).groupby('fixture_team_id').pivot('type').agg(first('value')) \\\n",
    "                                   .withColumn('fixture_id', split('fixture_team_id', '').getItem(0)) \\\n",
    "                                   .withColumn('team_id', split('fixture_team_id', '_').getItem(1))\n",
    "\n",
    "\n",
    "statistics_table.show()"
   ]
  },
  {
   "cell_type": "code",
   "execution_count": null,
   "id": "6fa5b3a1-ff23-451a-b565-3213fd2fb681",
   "metadata": {},
   "outputs": [],
   "source": [
    "# Write statistics table to BigQuery\n",
    "season_table.show()\n",
    "\n",
    "season_table.write.format('bigquery') \\\n",
    "    .option('table', '{0}.worldcup.statistics'.format(project_id)) \\\n",
    "    .option(\"temporaryGcsBucket\",\"data_de2022_ng\") \\\n",
    "    .mode('overwrite').save()"
   ]
  },
  {
   "cell_type": "code",
   "execution_count": null,
   "id": "50ec00f0-3d87-4007-8ca7-ea4e4f7d778b",
   "metadata": {},
   "outputs": [],
   "source": []
  }
 ],
 "metadata": {
  "kernelspec": {
   "display_name": "Python 3 (ipykernel)",
   "language": "python",
   "name": "python3"
  },
  "language_info": {
   "codemirror_mode": {
    "name": "ipython",
    "version": 3
   },
   "file_extension": ".py",
   "mimetype": "text/x-python",
   "name": "python",
   "nbconvert_exporter": "python",
   "pygments_lexer": "ipython3",
   "version": "3.10.6"
  }
 },
 "nbformat": 4,
 "nbformat_minor": 5
}
