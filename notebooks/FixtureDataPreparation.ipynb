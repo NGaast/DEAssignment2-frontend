{
 "cells": [
  {
   "cell_type": "code",
   "execution_count": 122,
   "id": "748aa54f-1d8c-4475-93d3-8521bad6b732",
   "metadata": {},
   "outputs": [],
   "source": [
    "# Imports\n",
    "from pyspark import SparkConf\n",
    "from pyspark.sql import SparkSession\n",
    "from pyspark.sql.functions import explode, split, concat, col, lit, array, udf, dense_rank\n",
    "from pyspark.sql.types import StructType, StructField, LongType, StringType, DoubleType, DateType, TimestampType\n",
    "from pyspark.sql import Window as W"
   ]
  },
  {
   "cell_type": "code",
   "execution_count": 123,
   "id": "a877a94b-5633-4073-ab59-d8b9af3ccff6",
   "metadata": {},
   "outputs": [],
   "source": [
    "# Initialize and configure Spark\n",
    "sparkConf = SparkConf()\n",
    "sparkConf.setMaster(\"spark://spark-master:7077\")\n",
    "sparkConf.setAppName(\"FixturePipeline\")\n",
    "sparkConf.set(\"spark.driver.memory\", \"2g\")\n",
    "sparkConf.set(\"spark.executor.cores\", \"1\")\n",
    "sparkConf.set(\"spark.driver.cores\", \"1\")\n",
    "spark = SparkSession.builder \\\n",
    "        .config(conf=sparkConf).getOrCreate()"
   ]
  },
  {
   "cell_type": "code",
   "execution_count": 124,
   "id": "1d69d380-d9af-4e1b-aa3a-3db76d622d3d",
   "metadata": {},
   "outputs": [],
   "source": [
    "# Setup abstract Google storage FileSystem\n",
    "bucket_id = \"data_de2022_ng\"\n",
    "conf = spark.sparkContext._jsc.hadoopConfiguration()\n",
    "conf.set('temporaryGcsBucket', bucket_id)\n",
    "conf.set(\"fs.gs.impl\", \"com.google.cloud.hadoop.fs.gcs.GoogleHadoopFileSystem\")\n",
    "conf.set(\"fs.AbstractFileSystem.gs.impl\", \"com.google.cloud.hadoop.fs.gcs.GoogleHadoopFS\")"
   ]
  },
  {
   "cell_type": "code",
   "execution_count": 125,
   "id": "57d25dae-8adf-4157-bdfc-d70617b932a9",
   "metadata": {},
   "outputs": [],
   "source": [
    "# # Load data into DataFrame\n",
    "# google_cloud_storage_path = 'gs://data_de2022_ng/'\n",
    "\n",
    "# df = spark.read.format(\"json\") \\\n",
    "#                          .option(\"inferSchema\", \"true\") \\\n",
    "#                          .option(\"multiLine\", \"true\") \\\n",
    "#                          .load(f'{google_cloud_storage_path}fixtures.json')\n"
   ]
  },
  {
   "cell_type": "code",
   "execution_count": 126,
   "id": "8bf0fb0f-0cc4-41bf-86a8-d82f7c8b6ecc",
   "metadata": {},
   "outputs": [],
   "source": [
    "# Load data into DataFrame\n",
    "project_id = 'de-2022-ng'\n",
    "\n",
    "df = spark.read.format(\"json\") \\\n",
    "                         .option(\"inferSchema\", \"true\") \\\n",
    "                         .option(\"multiLine\", \"true\") \\\n",
    "                         .load('/home/jovyan/data/fixtures.json')\n"
   ]
  },
  {
   "cell_type": "code",
   "execution_count": 127,
   "id": "fdcb71eb-8fd6-47ec-87f1-6f5707d6fe7e",
   "metadata": {},
   "outputs": [
    {
     "name": "stdout",
     "output_type": "stream",
     "text": [
      "root\n",
      " |-- response: array (nullable = true)\n",
      " |    |-- element: struct (containsNull = true)\n",
      " |    |    |-- fixture: struct (nullable = true)\n",
      " |    |    |    |-- date: string (nullable = true)\n",
      " |    |    |    |-- id: long (nullable = true)\n",
      " |    |    |    |-- periods: struct (nullable = true)\n",
      " |    |    |    |    |-- first: long (nullable = true)\n",
      " |    |    |    |    |-- second: long (nullable = true)\n",
      " |    |    |    |-- referee: string (nullable = true)\n",
      " |    |    |    |-- status: struct (nullable = true)\n",
      " |    |    |    |    |-- elapsed: long (nullable = true)\n",
      " |    |    |    |    |-- long: string (nullable = true)\n",
      " |    |    |    |    |-- short: string (nullable = true)\n",
      " |    |    |    |-- timestamp: long (nullable = true)\n",
      " |    |    |    |-- timezone: string (nullable = true)\n",
      " |    |    |    |-- venue: struct (nullable = true)\n",
      " |    |    |    |    |-- city: string (nullable = true)\n",
      " |    |    |    |    |-- id: string (nullable = true)\n",
      " |    |    |    |    |-- name: string (nullable = true)\n",
      " |    |    |-- goals: struct (nullable = true)\n",
      " |    |    |    |-- away: long (nullable = true)\n",
      " |    |    |    |-- home: long (nullable = true)\n",
      " |    |    |-- league: struct (nullable = true)\n",
      " |    |    |    |-- country: string (nullable = true)\n",
      " |    |    |    |-- flag: string (nullable = true)\n",
      " |    |    |    |-- id: long (nullable = true)\n",
      " |    |    |    |-- logo: string (nullable = true)\n",
      " |    |    |    |-- name: string (nullable = true)\n",
      " |    |    |    |-- round: string (nullable = true)\n",
      " |    |    |    |-- season: long (nullable = true)\n",
      " |    |    |-- score: struct (nullable = true)\n",
      " |    |    |    |-- extratime: struct (nullable = true)\n",
      " |    |    |    |    |-- away: long (nullable = true)\n",
      " |    |    |    |    |-- home: long (nullable = true)\n",
      " |    |    |    |-- fulltime: struct (nullable = true)\n",
      " |    |    |    |    |-- away: long (nullable = true)\n",
      " |    |    |    |    |-- home: long (nullable = true)\n",
      " |    |    |    |-- halftime: struct (nullable = true)\n",
      " |    |    |    |    |-- away: long (nullable = true)\n",
      " |    |    |    |    |-- home: long (nullable = true)\n",
      " |    |    |    |-- penalty: struct (nullable = true)\n",
      " |    |    |    |    |-- away: long (nullable = true)\n",
      " |    |    |    |    |-- home: long (nullable = true)\n",
      " |    |    |-- teams: struct (nullable = true)\n",
      " |    |    |    |-- away: struct (nullable = true)\n",
      " |    |    |    |    |-- id: long (nullable = true)\n",
      " |    |    |    |    |-- logo: string (nullable = true)\n",
      " |    |    |    |    |-- name: string (nullable = true)\n",
      " |    |    |    |    |-- winner: boolean (nullable = true)\n",
      " |    |    |    |-- home: struct (nullable = true)\n",
      " |    |    |    |    |-- id: long (nullable = true)\n",
      " |    |    |    |    |-- logo: string (nullable = true)\n",
      " |    |    |    |    |-- name: string (nullable = true)\n",
      " |    |    |    |    |-- winner: boolean (nullable = true)\n",
      "\n"
     ]
    }
   ],
   "source": [
    "# Print response schema\n",
    "df.select('response').printSchema()"
   ]
  },
  {
   "cell_type": "code",
   "execution_count": 128,
   "id": "ebaeefd5-4913-4085-9d02-6aa1a800de0f",
   "metadata": {},
   "outputs": [],
   "source": [
    "# Format DataFrame for easy feature extraction\n",
    "response_df = df.withColumn('response', explode('response')).select('response')"
   ]
  },
  {
   "cell_type": "code",
   "execution_count": 129,
   "id": "6b160dc5-9392-4803-adf4-1673300bb778",
   "metadata": {},
   "outputs": [
    {
     "name": "stdout",
     "output_type": "stream",
     "text": [
      "+------+---------+----------+-------------------+--------------------+-------+-------+---------------+------+-------------+-------------+-------------+-------------+--------------+--------------+------------+------------+\n",
      "|    id|league_id|      date|               time|             referee|away_id|home_id|          round|season|halftime_home|halftime_away|fulltime_home|fulltime_away|extratime_home|extratime_away|penalty_home|penalty_away|\n",
      "+------+---------+----------+-------------------+--------------------+-------+-------+---------------+------+-------------+-------------+-------------+-------------+--------------+--------------+------------+------------+\n",
      "|855734|        1|2022-11-21|2022-12-14 16:00:00|Wilton Pereira Sa...|   1118|     13|Group Stage - 1|  2022|            0|            0|            0|            2|          null|          null|        null|        null|\n",
      "|855735|        1|2022-11-21|2022-12-14 13:00:00|Raphael Claus, Br...|     22|     10|Group Stage - 1|  2022|            3|            0|            6|            2|          null|          null|        null|        null|\n",
      "|855736|        1|2022-11-20|2022-12-14 16:00:00|Daniele Orsato, I...|   2382|   1569|Group Stage - 1|  2022|            0|            2|            0|            2|          null|          null|        null|        null|\n",
      "|855737|        1|2022-11-22|2022-12-14 10:00:00|Slavko Vincic, Sl...|     23|     26|Group Stage - 1|  2022|            1|            0|            1|            2|          null|          null|        null|        null|\n",
      "|855738|        1|2022-11-22|2022-12-14 13:00:00|Cesar Arturo Ramo...|     28|     21|Group Stage - 1|  2022|            0|            0|            0|            0|          null|          null|        null|        null|\n",
      "|855739|        1|2022-11-22|2022-12-14 16:00:00|Chris Beath, Aust...|     24|     16|Group Stage - 1|  2022|            0|            0|            0|            0|          null|          null|        null|        null|\n",
      "|855740|        1|2022-11-23|2022-12-14 10:00:00|Fernando Rapallin...|      3|     31|Group Stage - 1|  2022|            0|            0|            0|            0|          null|          null|        null|        null|\n",
      "|855741|        1|2022-11-23|2022-12-14 13:00:00|Ivan Arcides Bart...|     12|     25|Group Stage - 1|  2022|            1|            0|            1|            2|          null|          null|        null|        null|\n",
      "|855742|        1|2022-11-23|2022-12-14 19:00:00|Janny Sikazwe, Za...|   5529|      1|Group Stage - 1|  2022|            1|            0|            1|            0|          null|          null|        null|        null|\n",
      "|855743|        1|2022-11-24|2022-12-14 10:00:00|Facundo Tello, Ar...|   1530|     15|Group Stage - 1|  2022|            0|            0|            1|            0|          null|          null|        null|        null|\n",
      "|855744|        1|2022-11-24|2022-12-14 13:00:00|Clement Turpin, F...|     17|      7|Group Stage - 1|  2022|            0|            0|            0|            0|          null|          null|        null|        null|\n",
      "|855745|        1|2022-11-24|2022-12-14 16:00:00|  Ismail Elfath, USA|   1504|     27|Group Stage - 1|  2022|            0|            0|            3|            2|          null|          null|        null|        null|\n",
      "|855746|        1|2022-11-24|2022-12-14 19:00:00|Alireza Faghani, ...|     14|      6|Group Stage - 1|  2022|            0|            0|            2|            0|          null|          null|        null|        null|\n",
      "|855747|        1|2022-11-25|2022-12-14 13:00:00|Antonio Mateu, Spain|     13|   1569|Group Stage - 2|  2022|            0|            1|            1|            3|          null|          null|        null|        null|\n",
      "|855748|        1|2022-11-25|2022-12-14 16:00:00|Mustapha Ghorbal,...|   2382|   1118|Group Stage - 2|  2022|            1|            0|            1|            1|          null|          null|        null|        null|\n",
      "|855749|        1|2022-11-25|2022-12-14 19:00:00|Jesus Valenzuela,...|   2384|     10|Group Stage - 2|  2022|            0|            0|            0|            0|          null|          null|        null|        null|\n",
      "|855750|        1|2022-11-26|2022-12-14 13:00:00|Wilton Pereira Sa...|     23|     24|Group Stage - 2|  2022|            1|            0|            2|            0|          null|          null|        null|        null|\n",
      "|855751|        1|2022-11-26|2022-12-14 16:00:00|Szymon Marciniak,...|     21|      2|Group Stage - 2|  2022|            0|            0|            2|            1|          null|          null|        null|        null|\n",
      "|855752|        1|2022-11-26|2022-12-14 19:00:00|Daniele Orsato, I...|     16|     26|Group Stage - 2|  2022|            0|            0|            2|            0|          null|          null|        null|        null|\n",
      "|855753|        1|2022-11-27|2022-12-14 13:00:00|Cesar Arturo Ramo...|     31|      1|Group Stage - 2|  2022|            0|            0|            0|            2|          null|          null|        null|        null|\n",
      "+------+---------+----------+-------------------+--------------------+-------+-------+---------------+------+-------------+-------------+-------------+-------------+--------------+--------------+------------+------------+\n",
      "only showing top 20 rows\n",
      "\n"
     ]
    }
   ],
   "source": [
    "# Fetch all features\n",
    "fixture_table = response_df.select( \\\n",
    "                   col('response.fixture.id'), \\\n",
    "                   col('response.league.id').alias('league_id'), \\\n",
    "                   split(col('response.fixture.date'), 'T').getItem(0).cast(DateType()).alias('date'), \\\n",
    "                   split(col('response.fixture.date'), 'T').getItem(1).cast(TimestampType()).alias('time'), \\\n",
    "                   'response.fixture.referee', \\\n",
    "                   col('response.teams.away.id').alias('away_id'), \\\n",
    "                   col('response.teams.home.id').alias('home_id'), \\\n",
    "                   'response.league.round', \\\n",
    "                   'response.league.season', \\\n",
    "                   col('response.score.halftime.home').alias('halftime_home'), \\\n",
    "                   col('response.score.halftime.away').alias('halftime_away'), \\\n",
    "                   col('response.score.fulltime.home').alias('fulltime_home'), \\\n",
    "                   col('response.score.fulltime.away').alias('fulltime_away'), \\\n",
    "                   col('response.score.extratime.home').alias('extratime_home'), \\\n",
    "                   col('response.score.extratime.away').alias('extratime_away'), \\\n",
    "                   col('response.score.penalty.home').alias('penalty_home'), \\\n",
    "                   col('response.score.penalty.away').alias('penalty_away'))\n",
    "\n",
    "fixture_table.show()"
   ]
  },
  {
   "cell_type": "code",
   "execution_count": 130,
   "id": "8f84fe50-f4b0-47f2-9214-0b21b5c82089",
   "metadata": {},
   "outputs": [
    {
     "name": "stdout",
     "output_type": "stream",
     "text": [
      "+--------+---------------+\n",
      "|round_id|          round|\n",
      "+--------+---------------+\n",
      "|       1|Group Stage - 1|\n",
      "|       2|Group Stage - 2|\n",
      "|       3|Group Stage - 3|\n",
      "|       4| Quarter-finals|\n",
      "|       5|    Round of 16|\n",
      "+--------+---------------+\n",
      "\n"
     ]
    }
   ],
   "source": [
    "# Build Round table\n",
    "window_rounds = W.orderBy('round')\n",
    "(\n",
    "    fixture_table\n",
    "    .withColumn('round_id', dense_rank().over(window_rounds))\n",
    ")\n",
    "\n",
    "window_rounds = W.orderBy('round')\n",
    "\n",
    "fixture_table = fixture_table.withColumn('round_id', dense_rank().over(window_rounds))\n",
    "\n",
    "rounds_table = fixture_table.select('round_id', 'round').distinct()\n",
    "rounds_table.show()"
   ]
  },
  {
   "cell_type": "code",
   "execution_count": null,
   "id": "897ad43c-37f3-4720-a882-3af26fa42fa9",
   "metadata": {},
   "outputs": [],
   "source": []
  },
  {
   "cell_type": "code",
   "execution_count": 131,
   "id": "931e34fe-3e24-4532-9622-20d23b56dc3f",
   "metadata": {},
   "outputs": [
    {
     "name": "stdout",
     "output_type": "stream",
     "text": [
      "+----------+--------------------+\n",
      "|referee_id|             referee|\n",
      "+----------+--------------------+\n",
      "|         1|                null|\n",
      "|         2|Alireza Faghani, ...|\n",
      "|         3|Andres Matonte, U...|\n",
      "|         4|Anthony Taylor, E...|\n",
      "|         5|Antonio Mateu, Spain|\n",
      "|         6|Bakary Papa Gassa...|\n",
      "|         7|Cesar Arturo Ramo...|\n",
      "|         8|Chris Beath, Aust...|\n",
      "|         9|Clement Turpin, F...|\n",
      "|        10|Daniel Siebert, G...|\n",
      "|        11|Daniele Orsato, I...|\n",
      "|        12|Danny Desmond Mak...|\n",
      "|        13|Facundo Tello, Ar...|\n",
      "|        14|Fernando Rapallin...|\n",
      "|        15|Ibrahim Al-Jassim...|\n",
      "|        16|  Ismail Elfath, USA|\n",
      "|        17|Ivan Arcides Bart...|\n",
      "|        18|Janny Sikazwe, Za...|\n",
      "|        19|Jesus Valenzuela,...|\n",
      "|        20|Mario Escobar, Gu...|\n",
      "|        21|Matt Conger, New ...|\n",
      "|        22|Michael Oliver, E...|\n",
      "|        23|Mohammed Abdulla ...|\n",
      "|        24|Mustapha Ghorbal,...|\n",
      "|        25|Raphael Claus, Br...|\n",
      "|        26|Slavko Vincic, Sl...|\n",
      "|        27|Stephanie Frappar...|\n",
      "|        28|Szymon Marciniak,...|\n",
      "|        29|Victor Gomes, Sou...|\n",
      "|        30|Wilton Pereira Sa...|\n",
      "+----------+--------------------+\n",
      "\n"
     ]
    }
   ],
   "source": [
    "# Build Referee table\n",
    "window_referee = W.orderBy('referee')\n",
    "(\n",
    "    fixture_table\n",
    "    .withColumn('referee_id', dense_rank().over(window_referee))\n",
    ")\n",
    "\n",
    "window_referee = W.orderBy('referee')\n",
    "\n",
    "fixture_table = fixture_table.withColumn('referee_id', dense_rank().over(window_referee))\n",
    "\n",
    "referee_table = fixture_table.select('referee_id', 'referee').distinct()\n",
    "referee_table.show(100)"
   ]
  },
  {
   "cell_type": "code",
   "execution_count": 132,
   "id": "e0365e46-9f5d-470b-9ae5-4c9590c62ab3",
   "metadata": {},
   "outputs": [
    {
     "name": "stdout",
     "output_type": "stream",
     "text": [
      "+---------+------+\n",
      "|season_id|season|\n",
      "+---------+------+\n",
      "|        1|  2022|\n",
      "+---------+------+\n",
      "\n"
     ]
    }
   ],
   "source": [
    "# Build Season table\n",
    "window_season = W.orderBy('season')\n",
    "(\n",
    "    fixture_table\n",
    "    .withColumn('season_id', dense_rank().over(window_season))\n",
    ")\n",
    "\n",
    "window_season = W.orderBy('season')\n",
    "\n",
    "fixture_table = fixture_table.withColumn('season_id', dense_rank().over(window_season))\n",
    "\n",
    "season_table = fixture_table.select('season_id', 'season').distinct()\n",
    "season_table.show(100)"
   ]
  },
  {
   "cell_type": "code",
   "execution_count": 133,
   "id": "30d4d9d2-67b0-4057-9994-53daca13e7aa",
   "metadata": {},
   "outputs": [
    {
     "name": "stdout",
     "output_type": "stream",
     "text": [
      "+------+---------+----------+-------------------+-------+-------+-------------+-------------+-------------+-------------+--------------+--------------+------------+------------+--------+----------+---------+\n",
      "|    id|league_id|      date|               time|away_id|home_id|halftime_home|halftime_away|fulltime_home|fulltime_away|extratime_home|extratime_away|penalty_home|penalty_away|round_id|referee_id|season_id|\n",
      "+------+---------+----------+-------------------+-------+-------+-------------+-------------+-------------+-------------+--------------+--------------+------------+------------+--------+----------+---------+\n",
      "|977794|        1|2022-12-09|2022-12-14 19:00:00|     26|   1118|         null|         null|         null|         null|          null|          null|        null|        null|       4|         1|        1|\n",
      "|978036|        1|2022-12-10|2022-12-14 19:00:00|      2|     10|         null|         null|         null|         null|          null|          null|        null|        null|       4|         1|        1|\n",
      "|978072|        1|2022-12-09|2022-12-14 15:00:00|      6|      3|         null|         null|         null|         null|          null|          null|        null|        null|       4|         1|        1|\n",
      "|978088|        1|2022-12-10|2022-12-14 15:00:00|     27|     31|         null|         null|         null|         null|          null|          null|        null|        null|       4|         1|        1|\n",
      "|855746|        1|2022-11-24|2022-12-14 19:00:00|     14|      6|            0|            0|            2|            0|          null|          null|        null|        null|       1|         2|        1|\n",
      "|855759|        1|2022-11-28|2022-12-14 19:00:00|      7|     27|            0|            0|            2|            0|          null|          null|        null|        null|       2|         2|        1|\n",
      "|855754|        1|2022-11-27|2022-12-14 16:00:00|   5529|      3|            2|            1|            4|            1|          null|          null|        null|        null|       2|         3|        1|\n",
      "|855757|        1|2022-11-28|2022-12-14 13:00:00|   1504|     17|            0|            2|            2|            3|          null|          null|        null|        null|       2|         4|        1|\n",
      "|855766|        1|2022-12-01|2022-12-14 15:00:00|      1|      3|            0|            0|            0|            0|          null|          null|        null|        null|       3|         4|        1|\n",
      "|855747|        1|2022-11-25|2022-12-14 13:00:00|     13|   1569|            0|            1|            1|            3|          null|          null|        null|        null|       2|         5|        1|\n",
      "|855762|        1|2022-11-29|2022-12-14 19:00:00|   2384|     22|            0|            1|            0|            1|          null|          null|        null|        null|       3|         5|        1|\n",
      "|855760|        1|2022-11-29|2022-12-14 15:00:00|   1569|   1118|            1|            0|            2|            0|          null|          null|        null|        null|       3|         6|        1|\n",
      "|855738|        1|2022-11-22|2022-12-14 13:00:00|     28|     21|            0|            0|            0|            0|          null|          null|        null|        null|       1|         7|        1|\n",
      "|855753|        1|2022-11-27|2022-12-14 13:00:00|     31|      1|            0|            0|            0|            2|          null|          null|        null|        null|       2|         7|        1|\n",
      "|977706|        1|2022-12-06|2022-12-14 19:00:00|     15|     27|            2|            0|            6|            1|          null|          null|        null|        null|       5|         7|        1|\n",
      "|855739|        1|2022-11-22|2022-12-14 16:00:00|     24|     16|            0|            0|            0|            0|          null|          null|        null|        null|       1|         8|        1|\n",
      "|855744|        1|2022-11-24|2022-12-14 13:00:00|     17|      7|            0|            0|            0|            0|          null|          null|        null|        null|       1|         9|        1|\n",
      "|855761|        1|2022-11-29|2022-12-14 15:00:00|     13|   2382|            0|            1|            1|            2|          null|          null|        null|        null|       3|         9|        1|\n",
      "|977705|        1|2022-12-05|2022-12-14 19:00:00|     17|      6|            4|            0|            4|            1|          null|          null|        null|        null|       5|         9|        1|\n",
      "|871852|        1|2022-11-26|2022-12-14 10:00:00|     20|     28|            0|            1|            0|            1|          null|          null|        null|        null|       2|        10|        1|\n",
      "+------+---------+----------+-------------------+-------+-------+-------------+-------------+-------------+-------------+--------------+--------------+------------+------------+--------+----------+---------+\n",
      "only showing top 20 rows\n",
      "\n"
     ]
    }
   ],
   "source": [
    "# Build Fixture table\n",
    "fixture_table = fixture_table.drop('referee')\n",
    "fixture_table = fixture_table.drop('round')\n",
    "fixture_table = fixture_table.drop('season')\n",
    "\n",
    "fixture_table.show()"
   ]
  },
  {
   "cell_type": "code",
   "execution_count": 134,
   "id": "e5bd5025-76a9-4bc6-bfc6-d0e1d2d26175",
   "metadata": {},
   "outputs": [
    {
     "name": "stdout",
     "output_type": "stream",
     "text": [
      "+----+------------+\n",
      "|  id|        name|\n",
      "+----+------------+\n",
      "|   1|     Belgium|\n",
      "|   2|      France|\n",
      "|   3|     Croatia|\n",
      "|   6|      Brazil|\n",
      "|   7|     Uruguay|\n",
      "|   9|       Spain|\n",
      "|  10|     England|\n",
      "|  12|       Japan|\n",
      "|  13|     Senegal|\n",
      "|  14|      Serbia|\n",
      "|  15| Switzerland|\n",
      "|  16|      Mexico|\n",
      "|  17| South Korea|\n",
      "|  20|   Australia|\n",
      "|  21|     Denmark|\n",
      "|  22|        Iran|\n",
      "|  23|Saudi Arabia|\n",
      "|  24|      Poland|\n",
      "|  25|     Germany|\n",
      "|  26|   Argentina|\n",
      "|  27|    Portugal|\n",
      "|  28|     Tunisia|\n",
      "|  29|  Costa Rica|\n",
      "|  31|     Morocco|\n",
      "| 767|       Wales|\n",
      "|1118| Netherlands|\n",
      "|1504|       Ghana|\n",
      "|1530|    Cameroon|\n",
      "|1569|       Qatar|\n",
      "|2382|     Ecuador|\n",
      "|2384|         USA|\n",
      "|5529|      Canada|\n",
      "+----+------------+\n",
      "\n"
     ]
    }
   ],
   "source": [
    "# Build Teams table\n",
    "teams_table = response_df.select('response.teams.away.id', 'response.teams.away.name').distinct().sort('id')\n",
    "teams_table.show(32)"
   ]
  },
  {
   "cell_type": "code",
   "execution_count": 135,
   "id": "f5452dbe-77e7-475b-95c4-fdafcd737fd3",
   "metadata": {},
   "outputs": [],
   "source": [
    "# Write Fixture table to BigQuery\n",
    "fixture_table.count()\n",
    "\n",
    "fixture_table.write.format('bigquery') \\\n",
    "    .option('table', '{0}.worldcup.fixture'.format(project_id)) \\\n",
    "    .option(\"temporaryGcsBucket\",\"data_de2022_ng\") \\\n",
    "    .mode('overwrite').save()"
   ]
  },
  {
   "cell_type": "code",
   "execution_count": 136,
   "id": "d6c555be-9b89-44bc-9df8-da4b28d4be1b",
   "metadata": {},
   "outputs": [
    {
     "name": "stdout",
     "output_type": "stream",
     "text": [
      "+----+------------+\n",
      "|  id|        name|\n",
      "+----+------------+\n",
      "|   1|     Belgium|\n",
      "|   2|      France|\n",
      "|   3|     Croatia|\n",
      "|   6|      Brazil|\n",
      "|   7|     Uruguay|\n",
      "|   9|       Spain|\n",
      "|  10|     England|\n",
      "|  12|       Japan|\n",
      "|  13|     Senegal|\n",
      "|  14|      Serbia|\n",
      "|  15| Switzerland|\n",
      "|  16|      Mexico|\n",
      "|  17| South Korea|\n",
      "|  20|   Australia|\n",
      "|  21|     Denmark|\n",
      "|  22|        Iran|\n",
      "|  23|Saudi Arabia|\n",
      "|  24|      Poland|\n",
      "|  25|     Germany|\n",
      "|  26|   Argentina|\n",
      "|  27|    Portugal|\n",
      "|  28|     Tunisia|\n",
      "|  29|  Costa Rica|\n",
      "|  31|     Morocco|\n",
      "| 767|       Wales|\n",
      "|1118| Netherlands|\n",
      "|1504|       Ghana|\n",
      "|1530|    Cameroon|\n",
      "|1569|       Qatar|\n",
      "|2382|     Ecuador|\n",
      "|2384|         USA|\n",
      "|5529|      Canada|\n",
      "+----+------------+\n",
      "\n"
     ]
    }
   ],
   "source": [
    "# Write Teams table to BigQuery\n",
    "teams_table.show(100)\n",
    "\n",
    "teams_table.write.format('bigquery') \\\n",
    "    .option('table', '{0}.worldcup.teams'.format(project_id)) \\\n",
    "    .option(\"temporaryGcsBucket\",\"data_de2022_ng\") \\\n",
    "    .mode('overwrite').save()"
   ]
  },
  {
   "cell_type": "code",
   "execution_count": 137,
   "id": "c06a5377-0678-4d59-8e73-554cf5d1f29c",
   "metadata": {},
   "outputs": [
    {
     "name": "stdout",
     "output_type": "stream",
     "text": [
      "+--------+---------------+\n",
      "|round_id|          round|\n",
      "+--------+---------------+\n",
      "|       1|Group Stage - 1|\n",
      "|       2|Group Stage - 2|\n",
      "|       3|Group Stage - 3|\n",
      "|       4| Quarter-finals|\n",
      "|       5|    Round of 16|\n",
      "+--------+---------------+\n",
      "\n"
     ]
    }
   ],
   "source": [
    "# Write Round table to BigQuery\n",
    "rounds_table.show()\n",
    "\n",
    "rounds_table.write.format('bigquery') \\\n",
    "    .option('table', '{0}.worldcup.rounds'.format(project_id)) \\\n",
    "    .option(\"temporaryGcsBucket\",\"data_de2022_ng\") \\\n",
    "    .mode('overwrite').save()"
   ]
  },
  {
   "cell_type": "code",
   "execution_count": 138,
   "id": "bf756902-8235-4dbe-b12e-ae53eebc236d",
   "metadata": {},
   "outputs": [
    {
     "name": "stdout",
     "output_type": "stream",
     "text": [
      "+----------+--------------------+\n",
      "|referee_id|             referee|\n",
      "+----------+--------------------+\n",
      "|         1|                null|\n",
      "|         2|Alireza Faghani, ...|\n",
      "|         3|Andres Matonte, U...|\n",
      "|         4|Anthony Taylor, E...|\n",
      "|         5|Antonio Mateu, Spain|\n",
      "|         6|Bakary Papa Gassa...|\n",
      "|         7|Cesar Arturo Ramo...|\n",
      "|         8|Chris Beath, Aust...|\n",
      "|         9|Clement Turpin, F...|\n",
      "|        10|Daniel Siebert, G...|\n",
      "|        11|Daniele Orsato, I...|\n",
      "|        12|Danny Desmond Mak...|\n",
      "|        13|Facundo Tello, Ar...|\n",
      "|        14|Fernando Rapallin...|\n",
      "|        15|Ibrahim Al-Jassim...|\n",
      "|        16|  Ismail Elfath, USA|\n",
      "|        17|Ivan Arcides Bart...|\n",
      "|        18|Janny Sikazwe, Za...|\n",
      "|        19|Jesus Valenzuela,...|\n",
      "|        20|Mario Escobar, Gu...|\n",
      "+----------+--------------------+\n",
      "only showing top 20 rows\n",
      "\n"
     ]
    }
   ],
   "source": [
    "# Write Referee table to BigQuery\n",
    "referee_table.show()\n",
    "\n",
    "referee_table.write.format('bigquery') \\\n",
    "    .option('table', '{0}.worldcup.referee'.format(project_id)) \\\n",
    "    .option(\"temporaryGcsBucket\",\"data_de2022_ng\") \\\n",
    "    .mode('overwrite').save()"
   ]
  },
  {
   "cell_type": "code",
   "execution_count": 139,
   "id": "891ac884-0ca4-4b08-a3f1-f58bba465bf6",
   "metadata": {},
   "outputs": [
    {
     "name": "stdout",
     "output_type": "stream",
     "text": [
      "+---------+------+\n",
      "|season_id|season|\n",
      "+---------+------+\n",
      "|        1|  2022|\n",
      "+---------+------+\n",
      "\n"
     ]
    }
   ],
   "source": [
    "# Write season table to BigQuery\n",
    "season_table.show()\n",
    "\n",
    "season_table.write.format('bigquery') \\\n",
    "    .option('table', '{0}.worldcup.season'.format(project_id)) \\\n",
    "    .option(\"temporaryGcsBucket\",\"data_de2022_ng\") \\\n",
    "    .mode('overwrite').save()"
   ]
  },
  {
   "cell_type": "code",
   "execution_count": 140,
   "id": "0203505f-faad-4252-b1ff-46b46a2937ac",
   "metadata": {},
   "outputs": [],
   "source": [
    "spark.stop()"
   ]
  },
  {
   "cell_type": "code",
   "execution_count": null,
   "id": "bd7c3de7-ebf5-4930-a00b-0951f1875212",
   "metadata": {},
   "outputs": [],
   "source": []
  },
  {
   "cell_type": "code",
   "execution_count": null,
   "id": "14883a32-ea03-4c2f-b3d5-48c8230f2aad",
   "metadata": {},
   "outputs": [],
   "source": []
  },
  {
   "cell_type": "code",
   "execution_count": null,
   "id": "bb8cb6ed-42a3-4c5e-a826-ef6ff70936f9",
   "metadata": {},
   "outputs": [],
   "source": []
  }
 ],
 "metadata": {
  "kernelspec": {
   "display_name": "Python 3 (ipykernel)",
   "language": "python",
   "name": "python3"
  },
  "language_info": {
   "codemirror_mode": {
    "name": "ipython",
    "version": 3
   },
   "file_extension": ".py",
   "mimetype": "text/x-python",
   "name": "python",
   "nbconvert_exporter": "python",
   "pygments_lexer": "ipython3",
   "version": "3.10.6"
  }
 },
 "nbformat": 4,
 "nbformat_minor": 5
}
